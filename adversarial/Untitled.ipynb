{
 "cells": [
  {
   "cell_type": "code",
   "execution_count": 1,
   "metadata": {},
   "outputs": [],
   "source": [
    "using Knet\n",
    "using Images\n",
    "using ArgParse\n",
    "using JLD2, FileIO"
   ]
  },
  {
   "cell_type": "code",
   "execution_count": 2,
   "metadata": {},
   "outputs": [
    {
     "name": "stdout",
     "output_type": "stream",
     "text": [
      "search: \u001b[1mn\u001b[22m\u001b[1ml\u001b[22m\u001b[1ml\u001b[22m \u001b[1mn\u001b[22mu\u001b[1ml\u001b[22m\u001b[1ml\u001b[22mspace \u001b[1mN\u001b[22mu\u001b[1ml\u001b[22m\u001b[1ml\u001b[22mable \u001b[1mN\u001b[22mu\u001b[1ml\u001b[22m\u001b[1ml\u001b[22mException is\u001b[1mn\u001b[22mu\u001b[1ml\u001b[22m\u001b[1ml\u001b[22m fi\u001b[1mn\u001b[22ma\u001b[1ml\u001b[22m\u001b[1ml\u001b[22my C_\u001b[1mN\u001b[22mU\u001b[1mL\u001b[22m\u001b[1mL\u001b[22m Dev\u001b[1mN\u001b[22mu\u001b[1ml\u001b[22m\u001b[1ml\u001b[22m\n",
      "\n"
     ]
    },
    {
     "data": {
      "text/markdown": [
       "```\n",
       "nll(scores, answers, d=1; average=true)\n",
       "```\n",
       "\n",
       "Given an unnormalized `scores` matrix and an `Integer` array of correct `answers`, return the per-instance negative log likelihood. `d=1` means instances are in columns, `d=2` means instances are in rows.  Use `average=false` to return the sum instead of per-instance average.\n",
       "\n",
       "```\n",
       "nll(model, data, predict; average=true)\n",
       "```\n",
       "\n",
       "Compute `nll(predict(model,x), y)` for `(x,y)` in `data` and return the per-instance average (if average=true) or total (if average=false) negative log likelihood.\n"
      ],
      "text/plain": [
       "```\n",
       "nll(scores, answers, d=1; average=true)\n",
       "```\n",
       "\n",
       "Given an unnormalized `scores` matrix and an `Integer` array of correct `answers`, return the per-instance negative log likelihood. `d=1` means instances are in columns, `d=2` means instances are in rows.  Use `average=false` to return the sum instead of per-instance average.\n",
       "\n",
       "```\n",
       "nll(model, data, predict; average=true)\n",
       "```\n",
       "\n",
       "Compute `nll(predict(model,x), y)` for `(x,y)` in `data` and return the per-instance average (if average=true) or total (if average=false) negative log likelihood.\n"
      ]
     },
     "execution_count": 2,
     "metadata": {},
     "output_type": "execute_result"
    }
   ],
   "source": [
    "?nll"
   ]
  },
  {
   "cell_type": "code",
   "execution_count": 9,
   "metadata": {},
   "outputs": [
    {
     "ename": "LoadError",
     "evalue": "\u001b[91mBoundsError\u001b[39m",
     "output_type": "error",
     "traceback": [
      "\u001b[91mBoundsError\u001b[39m",
      "",
      "Stacktrace:",
      " [1] \u001b[1mindexed_next\u001b[22m\u001b[22m at \u001b[1m./tuple.jl:56\u001b[22m\u001b[22m [inlined]",
      " [2] \u001b[1manonymous\u001b[22m\u001b[22m at \u001b[1m./<missing>:?\u001b[22m\u001b[22m",
      " [3] \u001b[1minclude_string\u001b[22m\u001b[22m\u001b[1m(\u001b[22m\u001b[22m::String, ::String\u001b[1m)\u001b[22m\u001b[22m at \u001b[1m./loading.jl:522\u001b[22m\u001b[22m"
     ]
    }
   ],
   "source": [
    "nll([0.5 0.5;],[1 1;];false)"
   ]
  },
  {
   "cell_type": "code",
   "execution_count": null,
   "metadata": {},
   "outputs": [],
   "source": []
  }
 ],
 "metadata": {
  "kernelspec": {
   "display_name": "Julia 0.6.1",
   "language": "julia",
   "name": "julia-0.6"
  },
  "language_info": {
   "file_extension": ".jl",
   "mimetype": "application/julia",
   "name": "julia",
   "version": "0.6.1"
  }
 },
 "nbformat": 4,
 "nbformat_minor": 2
}
