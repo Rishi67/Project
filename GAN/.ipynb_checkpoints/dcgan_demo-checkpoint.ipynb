{
 "cells": [
  {
   "cell_type": "code",
   "execution_count": 1,
   "metadata": {
    "scrolled": false
   },
   "outputs": [
    {
     "data": {
      "text/plain": [
       "MLP"
      ]
     },
     "execution_count": 1,
     "metadata": {},
     "output_type": "execute_result"
    }
   ],
   "source": [
    "include(\"./../adversarial/dcgan.jl\")\n",
    "include(\"classifier.jl\")"
   ]
  },
  {
   "cell_type": "code",
   "execution_count": 2,
   "metadata": {
    "scrolled": false
   },
   "outputs": [
    {
     "name": "stdout",
     "output_type": "stream",
     "text": [
      "mlp.jl (c) Deniz Yuret, 2016. Multi-layer perceptron model on the MNIST handwritten digit recognition problem from http://yann.lecun.com/exdb/mnist.\n",
      "opts=(:batchsize, 100)(:fast, false)(:atype, \"Array{Float32}\")(:epochs, 10)(:gcheck, 0)(:winit, 0.1)(:lr, 0.5)(:hidden, [256, 128, 64, 32])(:seed, -1)\n"
     ]
    },
    {
     "name": "stderr",
     "output_type": "stream",
     "text": [
      "\u001b[1m\u001b[36mINFO: \u001b[39m\u001b[22m\u001b[36mLoading MNIST...\n",
      "\u001b[39m"
     ]
    },
    {
     "name": "stdout",
     "output_type": "stream",
     "text": [
      "(60000,)\n",
      "Array{UInt8,1}\n",
      "(:epoch, 0, :trn, 0.10561666666666666, :tst, 0.1043)\n",
      "(:epoch, 1, :trn, 0.9482166666666667, :tst, 0.9449)\n",
      "(:epoch, 2, :trn, 0.9652166666666666, :tst, 0.9593)\n",
      "(:epoch, 3, :trn, 0.9748833333333333, :tst, 0.9656)\n",
      "(:epoch, 4, :trn, 0.9832666666666666, :tst, 0.9732)\n",
      "(:epoch, 5, :trn, 0.97965, :tst, 0.9659)\n",
      "(:epoch, 6, :trn, 0.99005, :tst, 0.9739)\n",
      "(:epoch, 7, :trn, 0.99095, :tst, 0.9731)\n",
      "(:epoch, 8, :trn, 0.98835, :tst, 0.9717)\n",
      "(:epoch, 9, :trn, 0.9887333333333334, :tst, 0.9712)\n",
      "(:epoch, 10, :trn, 0.9915166666666667, :tst, 0.9749)\n",
      " 40.890414 seconds (9.61 M allocations: 19.111 GiB, 6.62% gc time)\n",
      "mlp.jl (c) Deniz Yuret, 2016. Multi-layer perceptron model on the MNIST handwritten digit recognition problem from http://yann.lecun.com/exdb/mnist.\n",
      "opts=(:batchsize, 100)(:fast, false)(:atype, \"Array{Float32}\")(:epochs, 10)(:gcheck, 0)(:winit, 0.1)(:lr, 0.5)(:hidden, [128, 64, 32])(:seed, -1)\n",
      "(60000,)\n",
      "Array{UInt8,1}\n",
      "(:epoch, 0, :trn, 0.10128333333333334, :tst, 0.1047)\n",
      "(:epoch, 1, :trn, 0.9246666666666666, :tst, 0.9221)\n",
      "(:epoch, 2, :trn, 0.9608166666666667, :tst, 0.9547)\n",
      "(:epoch, 3, :trn, 0.9717666666666667, :tst, 0.962)\n",
      "(:epoch, 4, :trn, 0.97805, :tst, 0.9664)\n",
      "(:epoch, 5, :trn, 0.9844833333333334, :tst, 0.9738)\n",
      "(:epoch, 6, :trn, 0.9858166666666667, :tst, 0.9741)\n",
      "(:epoch, 7, :trn, 0.9841666666666666, :tst, 0.9694)\n",
      "(:epoch, 8, :trn, 0.9895166666666667, :tst, 0.9743)\n",
      "(:epoch, 9, :trn, 0.9894833333333334, :tst, 0.9743)\n",
      "(:epoch, 10, :trn, 0.9871833333333333, :tst, 0.9724)\n",
      " 15.535257 seconds (6.91 M allocations: 11.138 GiB, 7.64% gc time)\n"
     ]
    },
    {
     "data": {
      "text/plain": [
       "8-element Array{Any,1}:\n",
       " Float32[-0.0490858 0.158016 … 0.0238373 0.109553; 0.119646 -0.230636 … 0.227009 0.00379269; … ; 0.0514266 0.0254721 … 0.0197464 0.0197418; -0.0417384 -0.105389 … -0.191056 0.0358047]\n",
       " Float32[0.104892; -0.117227; … ; -0.0167051; -0.193206]                                                                                                                               \n",
       " Float32[-0.0253396 -0.120689 … 0.036367 0.00624719; 0.0155181 0.137244 … -0.23328 -0.100756; … ; 0.129853 0.00500321 … 0.0989906 0.0310893; 0.24406 -0.217087 … -0.116686 0.106741]   \n",
       " Float32[0.100174; -0.00786366; … ; 0.000901781; 0.274751]                                                                                                                             \n",
       " Float32[-0.0373712 -0.162961 … 0.0383273 -0.192393; -0.251988 -0.128075 … 0.19829 -0.128191; … ; 0.209981 0.401864 … 0.275553 -0.239522; 0.170633 0.131177 … -0.131421 -0.234397]     \n",
       " Float32[-0.138143; -0.066463; … ; 0.239778; -0.0508137]                                                                                                                               \n",
       " Float32[0.0594282 -0.0567416 … -0.137221 -0.466859; 0.0521001 0.208338 … 0.287441 -0.454654; … ; 0.00543011 -0.226883 … 0.0916447 -0.190252; 0.0793202 -0.158442 … 1.1583 0.96773]    \n",
       " Float32[-0.369607; -0.160167; … ; 0.436826; 0.184919]                                                                                                                                 "
      ]
     },
     "execution_count": 2,
     "metadata": {},
     "output_type": "execute_result"
    }
   ],
   "source": [
    "w = MLP.main(\"--hidden 256 128 64 32\")\n",
    "w2 = MLP.main(\"--hidden 128 64 32\")"
   ]
  },
  {
   "cell_type": "code",
   "execution_count": 3,
   "metadata": {},
   "outputs": [
    {
     "name": "stdout",
     "output_type": "stream",
     "text": [
      "trying to load\n",
      "Weights initialized\n",
      "Array{UInt8,4}\n",
      "(28, 28, 1, 10000)\n",
      "Array{UInt8,1}\n",
      "(10000,)\n",
      "Array{UInt8,4}\n",
      "(28, 28, 1, 1000)\n",
      "Array{UInt8,1}\n",
      "(1000,)\n",
      "training started...\n",
      "trained\n"
     ]
    }
   ],
   "source": [
    "wd, wg, md, mg = DCGAN.main(\"--epochs 0 --seed 1 --loadfile /Users/rishi/Project/GAN/MNIST/models/0014.jld2\");"
   ]
  },
  {
   "cell_type": "code",
   "execution_count": null,
   "metadata": {
    "scrolled": true
   },
   "outputs": [],
   "source": [
    "DCGAN.main(\"--epochs 20 --seed 1 --outdir /Users/rishi/Project/GAN/MNIST --data MNIST\");"
   ]
  },
  {
   "cell_type": "code",
   "execution_count": 4,
   "metadata": {},
   "outputs": [
    {
     "data": {
      "text/html": [
       "<div id=\"interact-js-shim\">\n",
       "    <script charset=\"utf-8\">\n",
       "(function (IPython, $, _, MathJax) {\n",
       "    $.event.special.destroyed = {\n",
       "\tremove: function(o) {\n",
       "\t    if (o.handler) {\n",
       "\t\to.handler.apply(this, arguments)\n",
       "\t    }\n",
       "\t}\n",
       "    }\n",
       "\n",
       "    var OutputArea = IPython.version >= \"4.0.0\" ? require(\"notebook/js/outputarea\").OutputArea : IPython.OutputArea;\n",
       "\n",
       "    var redrawValue = function (container, type, val) {\n",
       "\tvar selector = $(\"<div/>\");\n",
       "\tvar oa = new OutputArea(_.extend(selector, {\n",
       "\t    selector: selector,\n",
       "\t    prompt_area: true,\n",
       "\t    events: IPython.events,\n",
       "\t    keyboard_manager: IPython.keyboard_manager\n",
       "\t})); // Hack to work with IPython 2.1.0\n",
       "\n",
       "\tswitch (type) {\n",
       "\tcase \"image/png\":\n",
       "            var _src = 'data:' + type + ';base64,' + val;\n",
       "\t    $(container).find(\"img\").attr('src', _src);\n",
       "\t    break;\n",
       "\tcase \"text/latex\":\n",
       "\t\tif (MathJax){\n",
       "\t\t\tvar math = MathJax.Hub.getAllJax(container)[0];\n",
       "\t\t\tMathJax.Hub.Queue([\"Text\", math, val.replace(/^\\${1,2}|\\${1,2}$/g, '')]);\n",
       "\t\t\tbreak;\n",
       "\t\t}\n",
       "\tdefault:\n",
       "\t    var toinsert = OutputArea.append_map[type].apply(\n",
       "\t\toa, [val, {}, selector]\n",
       "\t    );\n",
       "\t    $(container).empty().append(toinsert.contents());\n",
       "\t    selector.remove();\n",
       "\t}\n",
       "    }\n",
       "\n",
       "\n",
       "    $(document).ready(function() {\n",
       "\tfunction initComm(evt, data) {\n",
       "\t    var comm_manager = data.kernel.comm_manager;\n",
       "        //_.extend(comm_manager.targets, require(\"widgets/js/widget\"))\n",
       "\t    comm_manager.register_target(\"Signal\", function (comm) {\n",
       "            comm.on_msg(function (msg) {\n",
       "                var val = msg.content.data.value;\n",
       "                $(\".signal-\" + comm.comm_id).each(function() {\n",
       "                var type = $(this).data(\"type\");\n",
       "                if (typeof(val[type]) !== \"undefined\" && val[type] !== null) {\n",
       "                    redrawValue(this, type, val[type], type);\n",
       "                }\n",
       "                });\n",
       "                delete val;\n",
       "                delete msg.content.data.value;\n",
       "            });\n",
       "\t    });\n",
       "\n",
       "\t    // coordingate with Comm and redraw Signals\n",
       "\t    // XXX: Test using Reactive here to improve performance\n",
       "\t    $([IPython.events]).on(\n",
       "\t\t'output_appended.OutputArea', function (event, type, value, md, toinsert) {\n",
       "\t\t    if (md && md.reactive) {\n",
       "                // console.log(md.comm_id);\n",
       "                toinsert.addClass(\"signal-\" + md.comm_id);\n",
       "                toinsert.data(\"type\", type);\n",
       "                // Signal back indicating the mimetype required\n",
       "                var comm_manager = IPython.notebook.kernel.comm_manager;\n",
       "                var comm = comm_manager.comms[md.comm_id];\n",
       "                comm.then(function (c) {\n",
       "                    c.send({action: \"subscribe_mime\",\n",
       "                       mime: type});\n",
       "                    toinsert.bind(\"destroyed\", function() {\n",
       "                        c.send({action: \"unsubscribe_mime\",\n",
       "                               mime: type});\n",
       "                    });\n",
       "                })\n",
       "\t\t    }\n",
       "\t    });\n",
       "\t}\n",
       "\n",
       "\ttry {\n",
       "\t    // try to initialize right away. otherwise, wait on the status_started event.\n",
       "\t    initComm(undefined, IPython.notebook);\n",
       "\t} catch (e) {\n",
       "\t    $([IPython.events]).on('kernel_created.Kernel kernel_created.Session', initComm);\n",
       "\t}\n",
       "    });\n",
       "})(IPython, jQuery, _, MathJax);\n",
       "</script>\n",
       "    <script>\n",
       "        window.interactLoadedFlag = true\n",
       "       $(\"#interact-js-shim\").bind(\"destroyed\", function () {\n",
       "           if (window.interactLoadedFlag) {\n",
       "               console.warn(\"JavaScript required by Interact will be removed if you remove this cell or run using Interact more than once.\")\n",
       "           }\n",
       "       })\n",
       "       $([IPython.events]).on(\"kernel_starting.Kernel kernel_restarting.Kernel\", function () { window.interactLoadedFlag = false })\n",
       "   </script>\n",
       "</div>"
      ]
     },
     "metadata": {},
     "output_type": "display_data"
    },
    {
     "data": {
      "text/plain": [
       "\"/Users/rishi/Project/Gan/ReverseGan/zero.txt\""
      ]
     },
     "execution_count": 4,
     "metadata": {},
     "output_type": "execute_result"
    }
   ],
   "source": [
    "using Interact, Plots\n",
    "\n",
    "file = [\"\",\"\",\"\",\"\",\"\",\"\",\"\",\"\",\"\",\"\"]\n",
    "file[1] = \"/Users/rishi/Project/GAN/ReverseGan/one.txt\"\n",
    "file[2] = \"/Users/rishi/Project/GAN/ReverseGan/two.txt\"\n",
    "file[3] = \"/Users/rishi/Project/GAN/ReverseGan/three.txt\"\n",
    "file[4] = \"/Users/rishi/Project/GAN/ReverseGan/four.txt\"\n",
    "file[5] = \"/Users/rishi/Project/GAN/ReverseGan/five.txt\"\n",
    "file[6] = \"/Users/rishi/Project/GAN/ReverseGan/six.txt\"\n",
    "file[7] = \"/Users/rishi/Project/GAN/ReverseGan/seven.txt\"\n",
    "file[8] = \"/Users/rishi/Project/GAN/ReverseGan/eight.txt\"\n",
    "file[9] = \"/Users/rishi/Project/GAN/ReverseGan/nine.txt\"\n",
    "file[10] = \"/Users/rishi/Project/Gan/ReverseGan/zero.txt\""
   ]
  },
  {
   "cell_type": "code",
   "execution_count": 5,
   "metadata": {},
   "outputs": [
    {
     "name": "stdout",
     "output_type": "stream",
     "text": [
      "(100, 5000)\n",
      "(100, 574)\n",
      "(100, 254)\n",
      "(100, 206)\n",
      "(100, 538)\n",
      "(100, 320)\n",
      "(100, 662)\n",
      "(100, 1150)\n",
      "(100, 5)\n",
      "(100, 1026)\n",
      "(100, 265)\n"
     ]
    }
   ],
   "source": [
    "f = open.(file, \"w\")\n",
    "\n",
    "z = DCGAN.sample_noise(Array{Float64},100,5000)\n",
    "println(size(z))\n",
    "x = DCGAN.gnet(wg,z,mg; training = false)\n",
    "y = reshape(x,784,:)\n",
    "label1 = mapslices(indmax,MLP.predict(w,y),1)\n",
    "label2 = mapslices(indmax,MLP.predict(w2,y),1)\n",
    "#println(label)\n",
    "\n",
    "for i=1:10\n",
    "    idx = Array{Int64,1}()\n",
    "    for j = 1:5000\n",
    "        if label1[j] == i \n",
    "            push!(idx,j)\n",
    "        end\n",
    "    end\n",
    "    #println(idx)\n",
    "    println(size(z[:,idx]))\n",
    "    writedlm(f[i], z[:,idx]', \"\\t\")\n",
    "end\n",
    "\n",
    "for i=1:10\n",
    "    close(f[i])\n",
    "end"
   ]
  },
  {
   "cell_type": "code",
   "execution_count": 6,
   "metadata": {
    "scrolled": false
   },
   "outputs": [
    {
     "name": "stdout",
     "output_type": "stream",
     "text": [
      "STDIN> 1\n"
     ]
    },
    {
     "data": {
      "application/vnd.jupyter.widget-view+json": {
       "model_id": "997fd999-0e5f-444b-a901-aec6fad3e9b5",
       "version_major": 2,
       "version_minor": 0
      }
     },
     "metadata": {},
     "output_type": "display_data"
    },
    {
     "data": {
      "text/html": [],
      "text/plain": [
       "Interact.Options{:ToggleButtons,Any}(1: \"input\" = 1 Any , \"digit\", 1, \"1\", 0, Interact.OptionDict(DataStructures.OrderedDict{Any,Any}(\"1\"=>1,\"2\"=>2,\"3\"=>3,\"4\"=>4,\"5\"=>5,\"6\"=>6,\"7\"=>7,\"8\"=>8,\"9\"=>9,\"10\"=>10…), Dict{Any,Any}(Pair{Any,Any}(7, \"7\"),Pair{Any,Any}(4, \"4\"),Pair{Any,Any}(9, \"9\"),Pair{Any,Any}(10, \"10\"),Pair{Any,Any}(2, \"2\"),Pair{Any,Any}(3, \"3\"),Pair{Any,Any}(5, \"5\"),Pair{Any,Any}(8, \"8\"),Pair{Any,Any}(6, \"6\"),Pair{Any,Any}(1, \"1\")…)), Any[], Any[], true, \"horizontal\")"
      ]
     },
     "metadata": {},
     "output_type": "display_data"
    },
    {
     "data": {
      "application/vnd.jupyter.widget-view+json": {
       "model_id": "cc05f388-3cc5-402d-8aa7-de0e5cb59bd6",
       "version_major": 2,
       "version_minor": 0
      }
     },
     "metadata": {},
     "output_type": "display_data"
    },
    {
     "data": {
      "text/html": [],
      "text/plain": [
       "Interact.Textbox{Int64}(3: \"input-2\" = 1 Int64 , \"n\", nothing, 1)"
      ]
     },
     "metadata": {},
     "output_type": "display_data"
    },
    {
     "name": "stdout",
     "output_type": "stream",
     "text": [
      "size(z) = (100, 574)\n"
     ]
    },
    {
     "data": {
      "text/html": [
       "<img src=\"data:image/png;base64,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\" />"
      ]
     },
     "execution_count": 6,
     "metadata": {
      "comm_id": "989e2d43-d49c-48dc-be66-f7f3a6e06232",
      "reactive": true
     },
     "output_type": "execute_result"
    },
    {
     "name": "stdout",
     "output_type": "stream",
     "text": [
      "size(z) = (100, 254)\n",
      "size(z) = (100, 206)\n",
      "size(z) = (100, 538)\n",
      "size(z) = (100, 320)\n",
      "size(z) = (100, 662)\n",
      "size(z) = (100, 1150)\n",
      "size(z) = (100, 1150)\n",
      "size(z) = (100, 1150)\n",
      "size(z) = (100, 1150)\n",
      "size(z) = (100, 1150)\n",
      "size(z) = (100, 1150)\n",
      "size(z) = (100, 1150)\n",
      "size(z) = (100, 1150)\n",
      "size(z) = (100, 1150)\n",
      "size(z) = (100, 1150)\n",
      "size(z) = (100, 1150)\n",
      "size(z) = (100, 1150)\n",
      "size(z) = (100, 1150)\n",
      "size(z) = (100, 5)\n",
      "size(z) = (100, 1026)\n",
      "size(z) = (100, 265)\n",
      "size(z) = (100, 265)\n",
      "size(z) = (100, 265)\n"
     ]
    }
   ],
   "source": [
    "using Colors\n",
    "\n",
    "function input(prompt::String=\"\")::String\n",
    "    print(prompt)\n",
    "    return chomp(readline())\n",
    "end\n",
    "\n",
    "@manipulate for digit = [1,2,3,4,5,6,7,8,9,10], n = parse(Int,input())\n",
    "    z = readdlm(file[digit],'\\t')'\n",
    "    @show size(z)\n",
    "    \n",
    "    x = DCGAN.gnet(wg,z[:,[n]],mg; training = false)\n",
    "    heatmap(x[:,:,1,1]',yflip=true, color=:grey)\n",
    "end"
   ]
  },
  {
   "cell_type": "code",
   "execution_count": null,
   "metadata": {},
   "outputs": [],
   "source": []
  }
 ],
 "metadata": {
  "kernelspec": {
   "display_name": "Julia 0.6.1",
   "language": "julia",
   "name": "julia-0.6"
  },
  "language_info": {
   "file_extension": ".jl",
   "mimetype": "application/julia",
   "name": "julia",
   "version": "0.6.1"
  }
 },
 "nbformat": 4,
 "nbformat_minor": 2
}
