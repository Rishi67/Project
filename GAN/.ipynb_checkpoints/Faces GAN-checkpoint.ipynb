{
 "cells": [
  {
   "cell_type": "code",
   "execution_count": null,
   "metadata": {},
   "outputs": [],
   "source": [
    "Pkg.add(\"Netpbm\")"
   ]
  },
  {
   "cell_type": "code",
   "execution_count": null,
   "metadata": {},
   "outputs": [],
   "source": [
    "function load_digit_data(digit,nx=28,ny=28,nrep=1000)\n",
    "    file = \"/Users/rishi/Downloads/faces/an2i/an2i_left_angry_open_4.pgm\"\n",
    "    \n",
    "    fp = open(file, \"r\")\n",
    "    x = read(fp, UInt8, (32,30)) # what is the type of x0?\n",
    "    close(fp)\n",
    "    \n",
    "   return x\n",
    "end"
   ]
  },
  {
   "cell_type": "code",
   "execution_count": null,
   "metadata": {},
   "outputs": [],
   "source": [
    "using Plots,Interact\n",
    "using Knet\n",
    "using Images\n",
    "using ArgParse\n",
    "using JLD2, FileIO\n",
    "using Colors"
   ]
  },
  {
   "cell_type": "code",
   "execution_count": null,
   "metadata": {},
   "outputs": [],
   "source": [
    "using Netpbm\n",
    "try\n",
    "    f = File(format\"PGMBinary\",\"/Users/rishi/Downloads/faces/choon/choon_left_angry_sunglasses.pgm\")\n",
    "    b = Netpbm.load(f)\n",
    "catch\n",
    "    println(\"Tried openning bad file\")\n",
    "end\n"
   ]
  },
  {
   "cell_type": "code",
   "execution_count": null,
   "metadata": {},
   "outputs": [],
   "source": [
    "typeof(b)\n",
    "\n",
    "x = convert(Array{Float64,2},b)"
   ]
  },
  {
   "cell_type": "code",
   "execution_count": null,
   "metadata": {},
   "outputs": [],
   "source": [
    "\n",
    "heatmap(x,yflip=true,color=:gray)"
   ]
  },
  {
   "cell_type": "code",
   "execution_count": null,
   "metadata": {},
   "outputs": [],
   "source": [
    "users = [\"an2i\", \n",
    "    \"at33\", \n",
    "    \"boland\", \n",
    "    \"bpm\", \n",
    "    \"ch4f\", \n",
    "    \"cheyer\", \n",
    "    \"choon\", \n",
    "    \"danieln\", \n",
    "    \"glickman\", \n",
    "    \"karyadi\", \n",
    "    \"kawamura\", \n",
    "    \"kk49\", \n",
    "    \"megak\", \n",
    "    \"mitchell\", \n",
    "    \"night\", \n",
    "    \"phoebe\", \n",
    "    \"saavik\", \n",
    "    \"steffi\", \n",
    "    \"sz24\", \n",
    "    \"tammo\"]\n",
    "\n",
    "pose = [\"straight\", \"left\", \"right\", \"up\"]\n",
    "\n",
    "expression = [\"neutral\", \"happy\", \"sad\", \"angry\"]\n",
    "\n",
    "eyes = [\"open\",\"sunglasses\"]"
   ]
  },
  {
   "cell_type": "code",
   "execution_count": null,
   "metadata": {},
   "outputs": [],
   "source": [
    "function load_data()\n",
    "    xdata = Array{Float64,2}[]\n",
    "    for u in users\n",
    "        for p in pose\n",
    "            for e in expression\n",
    "                for eye in eyes\n",
    "                    file = \"/Users/rishi/Downloads/faces/\"*u*\"/\"*u*\"_\"*p*\"_\"*e*\"_\"*eye*\"_2.pgm\"\n",
    "                    try\n",
    "                        f = File(format\"PGMBinary\",file)\n",
    "                        b = convert(Array{Float64,2},Netpbm.load(f))\n",
    "                        #println(typeof(b))\n",
    "                        #println(size(b))\n",
    "                        push!(xdata,b)\n",
    "                    catch\n",
    "                        println(\"Tried openning bad file: \"*file)\n",
    "                    end\n",
    "                end\n",
    "            end\n",
    "        end\n",
    "    end\n",
    "    \n",
    "    return xdata\n",
    "end"
   ]
  },
  {
   "cell_type": "code",
   "execution_count": null,
   "metadata": {},
   "outputs": [],
   "source": [
    "xdata = load_data()\n",
    "x = xdata[1]\n",
    "reshape(x[60,64,1,1])"
   ]
  },
  {
   "cell_type": "code",
   "execution_count": null,
   "metadata": {},
   "outputs": [],
   "source": []
  }
 ],
 "metadata": {
  "kernelspec": {
   "display_name": "Julia 0.6.1",
   "language": "julia",
   "name": "julia-0.6"
  },
  "language_info": {
   "file_extension": ".jl",
   "mimetype": "application/julia",
   "name": "julia",
   "version": "0.6.1"
  }
 },
 "nbformat": 4,
 "nbformat_minor": 2
}
