{
 "cells": [
  {
   "cell_type": "code",
   "execution_count": 13,
   "metadata": {},
   "outputs": [
    {
     "name": "stderr",
     "output_type": "stream",
     "text": [
      "WARNING: replacing module DCGAN\n"
     ]
    },
    {
     "data": {
      "text/plain": [
       "DCGAN"
      ]
     },
     "execution_count": 13,
     "metadata": {},
     "output_type": "execute_result"
    }
   ],
   "source": [
    "include(\"invertibleDCGAN.jl\")"
   ]
  },
  {
   "cell_type": "code",
   "execution_count": 14,
   "metadata": {
    "scrolled": false
   },
   "outputs": [
    {
     "name": "stdout",
     "output_type": "stream",
     "text": [
      "numlayers = 8\n",
      "trying to load\n",
      "(4,)\n",
      "Weights initialized\n",
      "(28, 28, 1, 10000)\n",
      "(10000,)\n",
      "(28, 28, 1, 1000)\n",
      "(1000,)\n",
      "training started...\n",
      " 63.833150 seconds (2.26 M allocations: 30.134 GiB, 44.07% gc time)\n",
      "(:epoch, 1, :dloss, 1.171181663877708, :gloss, 0.905534100803991)\n",
      " 68.326501 seconds (2.14 M allocations: 30.082 GiB, 44.21% gc time)\n",
      "(:epoch, 2, :dloss, 0.7658465261045899, :gloss, 0.6998214143629664)\n",
      " 65.952296 seconds (2.14 M allocations: 30.082 GiB, 43.98% gc time)\n",
      "(:epoch, 3, :dloss, 0.39375953929374513, :gloss, 0.6651722435640219)\n",
      " 65.692981 seconds (2.14 M allocations: 30.082 GiB, 44.01% gc time)\n",
      "(:epoch, 4, :dloss, 0.21657982726824418, :gloss, 0.6248218100619696)\n",
      " 58.302864 seconds (2.14 M allocations: 30.082 GiB, 44.30% gc time)\n",
      "(:epoch, 5, :dloss, 0.14780108440592016, :gloss, 0.5703725357576035)\n",
      " 61.838094 seconds (2.14 M allocations: 30.082 GiB, 44.20% gc time)\n",
      "(:epoch, 6, :dloss, 0.18869269381713896, :gloss, 0.48174707094481695)\n",
      " 57.713391 seconds (2.14 M allocations: 30.082 GiB, 44.30% gc time)\n",
      "(:epoch, 7, :dloss, 0.15435194871877825, :gloss, 0.46970845468101713)\n",
      " 63.465813 seconds (2.14 M allocations: 30.082 GiB, 44.14% gc time)\n",
      "(:epoch, 8, :dloss, 0.10534332717817231, :gloss, 0.4556681461480007)\n",
      " 63.971870 seconds (2.14 M allocations: 30.082 GiB, 44.15% gc time)\n",
      "(:epoch, 9, :dloss, 0.157012046686617, :gloss, 0.408995750466467)\n",
      " 70.582116 seconds (2.14 M allocations: 30.082 GiB, 43.75% gc time)\n",
      "(:epoch, 10, :dloss, 0.15806855629631567, :gloss, 0.3720973005658782)\n",
      " 69.403882 seconds (2.14 M allocations: 30.082 GiB, 44.28% gc time)\n",
      "(:epoch, 11, :dloss, 0.18712164573555004, :gloss, 0.3536981128515026)\n",
      " 69.114871 seconds (2.14 M allocations: 30.082 GiB, 43.74% gc time)\n",
      "(:epoch, 12, :dloss, 0.0950371736265505, :gloss, 0.3539378641807371)\n",
      " 68.228848 seconds (2.14 M allocations: 30.082 GiB, 43.84% gc time)\n",
      "(:epoch, 13, :dloss, 0.04967619751130083, :gloss, 0.3406248710216136)\n",
      " 68.504558 seconds (2.14 M allocations: 30.082 GiB, 43.98% gc time)\n",
      "(:epoch, 14, :dloss, 0.09865311898082067, :gloss, 0.3202413291400321)\n",
      " 71.698374 seconds (2.14 M allocations: 30.082 GiB, 43.91% gc time)\n",
      "(:epoch, 15, :dloss, 0.12920618789042293, :gloss, 0.29509823483934505)\n",
      " 68.441676 seconds (2.14 M allocations: 30.082 GiB, 43.96% gc time)\n",
      "(:epoch, 16, :dloss, 0.05845676221024381, :gloss, 0.2942341991880269)\n",
      " 67.564127 seconds (2.14 M allocations: 30.082 GiB, 44.20% gc time)\n",
      "(:epoch, 17, :dloss, 0.2493866855827949, :gloss, 0.2558706665178237)\n",
      " 68.101029 seconds (2.14 M allocations: 30.082 GiB, 43.92% gc time)\n",
      "(:epoch, 18, :dloss, 0.22196330062093456, :gloss, 0.2423956131312761)\n",
      " 67.800939 seconds (2.14 M allocations: 30.082 GiB, 44.51% gc time)\n",
      "(:epoch, 19, :dloss, 0.2662024191346834, :gloss, 0.23308802802759673)\n",
      " 70.663917 seconds (2.14 M allocations: 30.082 GiB, 43.78% gc time)\n",
      "(:epoch, 20, :dloss, 0.22067274271149015, :gloss, 0.20922627161501983)\n",
      " 70.575231 seconds (2.14 M allocations: 30.082 GiB, 44.44% gc time)\n",
      "(:epoch, 21, :dloss, 0.3931951994146666, :gloss, 0.19529941448922958)\n",
      " 67.429312 seconds (2.14 M allocations: 30.082 GiB, 44.53% gc time)\n",
      "(:epoch, 22, :dloss, 0.34102779589724536, :gloss, 0.18422056230971626)\n",
      " 68.341440 seconds (2.14 M allocations: 30.082 GiB, 43.89% gc time)\n",
      "(:epoch, 23, :dloss, 0.38973598278446764, :gloss, 0.17283590809579163)\n",
      " 62.615356 seconds (2.14 M allocations: 30.082 GiB, 44.14% gc time)\n",
      "(:epoch, 24, :dloss, 0.3354740570152775, :gloss, 0.16545275053056943)\n",
      " 70.692061 seconds (2.14 M allocations: 30.082 GiB, 43.75% gc time)\n",
      "(:epoch, 25, :dloss, 0.37154328891843236, :gloss, 0.1611203671319904)\n",
      " 70.396880 seconds (2.14 M allocations: 30.082 GiB, 44.08% gc time)\n",
      "(:epoch, 26, :dloss, 0.3772935749338198, :gloss, 0.14912671675848185)\n",
      " 65.164673 seconds (2.14 M allocations: 30.082 GiB, 43.88% gc time)\n",
      "(:epoch, 27, :dloss, 0.34369456994338904, :gloss, 0.14566091826661973)\n",
      " 67.138704 seconds (2.14 M allocations: 30.082 GiB, 43.64% gc time)\n",
      "(:epoch, 28, :dloss, 0.38539003612375633, :gloss, 0.13999953918655886)\n",
      " 71.683640 seconds (2.14 M allocations: 30.082 GiB, 43.08% gc time)\n",
      "(:epoch, 29, :dloss, 0.35239111232852727, :gloss, 0.13390650918565236)\n",
      " 67.126255 seconds (2.14 M allocations: 30.082 GiB, 43.74% gc time)\n",
      "(:epoch, 30, :dloss, 0.35354557437653233, :gloss, 0.13143452680958234)\n",
      " 64.660390 seconds (2.14 M allocations: 30.082 GiB, 43.92% gc time)\n",
      "(:epoch, 31, :dloss, 0.34354179333262974, :gloss, 0.13379520059296318)\n",
      " 66.370082 seconds (2.14 M allocations: 30.082 GiB, 44.10% gc time)\n",
      "(:epoch, 32, :dloss, 0.3331296135098465, :gloss, 0.12685355726514946)\n",
      " 69.316158 seconds (2.14 M allocations: 30.082 GiB, 44.04% gc time)\n",
      "(:epoch, 33, :dloss, 0.31922731574828767, :gloss, 0.1254772277236467)\n",
      " 66.488523 seconds (2.14 M allocations: 30.082 GiB, 43.91% gc time)\n",
      "(:epoch, 34, :dloss, 0.334273414360467, :gloss, 0.12160398380302148)\n",
      " 68.288994 seconds (2.14 M allocations: 30.082 GiB, 43.63% gc time)\n",
      "(:epoch, 35, :dloss, 0.3623565091657561, :gloss, 0.11805709072155267)\n",
      " 67.140414 seconds (2.14 M allocations: 30.082 GiB, 43.97% gc time)\n",
      "(:epoch, 36, :dloss, 0.35242092862748076, :gloss, 0.11513040391875838)\n",
      " 66.598380 seconds (2.14 M allocations: 30.082 GiB, 43.95% gc time)\n",
      "(:epoch, 37, :dloss, 0.31449195583753287, :gloss, 0.11518153829893514)\n",
      " 66.422918 seconds (2.14 M allocations: 30.082 GiB, 43.97% gc time)\n",
      "(:epoch, 38, :dloss, 0.3735540207823138, :gloss, 0.11219626337550372)\n",
      " 66.351555 seconds (2.14 M allocations: 30.082 GiB, 43.88% gc time)\n",
      "(:epoch, 39, :dloss, 0.30774683165143185, :gloss, 0.10842159824014443)\n",
      " 64.956697 seconds (2.14 M allocations: 30.082 GiB, 44.23% gc time)\n",
      "(:epoch, 40, :dloss, 0.35975929056998956, :gloss, 0.10179147071234113)\n",
      "trained\n"
     ]
    }
   ],
   "source": [
    "wd, wg, md, mg = DCGAN.main(\"--epochs 40 --seed 1 --outdir /Users/rishi/Project/GAN/invert/ --layers 8\");"
   ]
  },
  {
   "cell_type": "code",
   "execution_count": null,
   "metadata": {},
   "outputs": [],
   "source": []
  },
  {
   "cell_type": "code",
   "execution_count": null,
   "metadata": {},
   "outputs": [],
   "source": []
  },
  {
   "cell_type": "code",
   "execution_count": null,
   "metadata": {},
   "outputs": [],
   "source": []
  }
 ],
 "metadata": {
  "kernelspec": {
   "display_name": "Julia 0.6.1",
   "language": "julia",
   "name": "julia-0.6"
  },
  "language_info": {
   "file_extension": ".jl",
   "mimetype": "application/julia",
   "name": "julia",
   "version": "0.6.1"
  }
 },
 "nbformat": 4,
 "nbformat_minor": 2
}
