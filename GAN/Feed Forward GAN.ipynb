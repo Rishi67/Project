{
 "cells": [
  {
   "cell_type": "code",
   "execution_count": 3,
   "metadata": {},
   "outputs": [
    {
     "name": "stderr",
     "output_type": "stream",
     "text": [
      "WARNING: replacing module DCGAN\n"
     ]
    },
    {
     "data": {
      "text/plain": [
       "DCGAN"
      ]
     },
     "execution_count": 3,
     "metadata": {},
     "output_type": "execute_result"
    }
   ],
   "source": [
    "include(\"invertibleDCGAN.jl\")"
   ]
  },
  {
   "cell_type": "code",
   "execution_count": 4,
   "metadata": {
    "scrolled": false
   },
   "outputs": [
    {
     "name": "stdout",
     "output_type": "stream",
     "text": [
      "numlayers = 8\n",
      "trying to load\n",
      "(4,)\n",
      "Weights initialized\n",
      "(28, 28, 1, 10000)\n",
      "(10000,)\n",
      "(28, 28, 1, 1000)\n",
      "(1000,)\n",
      "training started...\n",
      " 79.874834 seconds (11.90 M allocations: 31.443 GiB, 36.77% gc time)\n",
      "(:epoch, 1, :dloss, 1.192474951298093, :gloss, 0.8950208762067824)\n",
      " 71.098905 seconds (2.29 M allocations: 30.983 GiB, 45.00% gc time)\n",
      "(:epoch, 2, :dloss, 0.8764818499656439, :gloss, 0.6603549599415168)\n",
      " 62.625867 seconds (2.29 M allocations: 30.983 GiB, 45.12% gc time)\n",
      "(:epoch, 3, :dloss, 0.4905228865591475, :gloss, 0.6106181612019904)\n",
      " 67.177318 seconds (2.29 M allocations: 30.983 GiB, 44.97% gc time)\n",
      "(:epoch, 4, :dloss, 0.26529475407706776, :gloss, 0.5982703587847314)\n",
      " 69.855420 seconds (2.29 M allocations: 30.983 GiB, 45.51% gc time)\n",
      "(:epoch, 5, :dloss, 0.15726250409086043, :gloss, 0.5697144835370409)\n",
      " 98.881891 seconds (2.29 M allocations: 30.983 GiB, 45.61% gc time)\n",
      "(:epoch, 6, :dloss, 0.17098764447588785, :gloss, 0.5104675953599153)\n",
      " 88.404344 seconds (2.29 M allocations: 30.983 GiB, 45.12% gc time)\n",
      "(:epoch, 7, :dloss, 0.1627593428801596, :gloss, 0.4719676510714292)\n",
      " 86.494873 seconds (2.29 M allocations: 30.983 GiB, 44.96% gc time)\n",
      "(:epoch, 8, :dloss, 0.11934733179138242, :gloss, 0.44944908930267585)\n",
      " 87.783451 seconds (2.29 M allocations: 30.983 GiB, 45.13% gc time)\n",
      "(:epoch, 9, :dloss, 0.12305138350865528, :gloss, 0.42211581655219543)\n",
      " 88.661397 seconds (2.29 M allocations: 30.983 GiB, 44.71% gc time)\n",
      "(:epoch, 10, :dloss, 0.07464552254137857, :gloss, 0.41116905462168607)\n",
      "115.048607 seconds (2.29 M allocations: 30.983 GiB, 43.73% gc time)\n",
      "(:epoch, 11, :dloss, 0.06092087446073178, :gloss, 0.3975707840842382)\n",
      "120.697845 seconds (2.29 M allocations: 30.983 GiB, 44.12% gc time)\n",
      "(:epoch, 12, :dloss, 0.04179681932936953, :gloss, 0.3804845468773842)\n",
      "100.988161 seconds (2.29 M allocations: 30.983 GiB, 43.94% gc time)\n",
      "(:epoch, 13, :dloss, 0.11281449750391584, :gloss, 0.348396124195101)\n",
      " 87.294417 seconds (2.29 M allocations: 30.983 GiB, 44.99% gc time)\n",
      "(:epoch, 14, :dloss, 0.17656387725949305, :gloss, 0.2998105700650244)\n",
      " 89.700276 seconds (2.29 M allocations: 30.983 GiB, 44.76% gc time)\n",
      "(:epoch, 15, :dloss, 0.10026791012452801, :gloss, 0.2899994322388821)\n",
      " 86.522317 seconds (2.29 M allocations: 30.983 GiB, 44.32% gc time)\n",
      "(:epoch, 16, :dloss, 0.04345898214081503, :gloss, 0.30244000163181606)\n",
      " 85.406866 seconds (2.29 M allocations: 30.983 GiB, 44.91% gc time)\n",
      "(:epoch, 17, :dloss, 0.025038672294432237, :gloss, 0.2948581451320144)\n",
      " 87.800502 seconds (2.29 M allocations: 30.983 GiB, 44.72% gc time)\n",
      "(:epoch, 18, :dloss, 0.021728737370140985, :gloss, 0.2791588887384017)\n",
      " 88.673100 seconds (2.29 M allocations: 30.983 GiB, 44.61% gc time)\n",
      "(:epoch, 19, :dloss, 0.01872175048765568, :gloss, 0.2822342410017382)\n",
      " 82.317467 seconds (2.29 M allocations: 30.983 GiB, 44.51% gc time)\n",
      "(:epoch, 20, :dloss, 0.1582335811992706, :gloss, 0.24620432890240868)\n",
      " 88.269551 seconds (2.29 M allocations: 30.983 GiB, 44.11% gc time)\n",
      "(:epoch, 21, :dloss, 0.028564086496648114, :gloss, 0.24434294718999147)\n",
      " 86.509275 seconds (2.29 M allocations: 30.983 GiB, 44.77% gc time)\n",
      "(:epoch, 22, :dloss, 0.2292182609440408, :gloss, 0.2207580421287472)\n",
      " 86.198502 seconds (2.29 M allocations: 30.983 GiB, 44.62% gc time)\n",
      "(:epoch, 23, :dloss, 0.11655220831875436, :gloss, 0.2111263823502052)\n",
      " 87.140295 seconds (2.29 M allocations: 30.983 GiB, 44.69% gc time)\n",
      "(:epoch, 24, :dloss, 0.1895536452288886, :gloss, 0.19448831112082868)\n",
      " 91.565572 seconds (2.29 M allocations: 30.983 GiB, 44.16% gc time)\n",
      "(:epoch, 25, :dloss, 0.1947165793027942, :gloss, 0.19441294605291726)\n",
      " 88.996560 seconds (2.29 M allocations: 30.983 GiB, 44.23% gc time)\n",
      "(:epoch, 26, :dloss, 0.17162487694289244, :gloss, 0.18379270585078467)\n",
      " 87.709858 seconds (2.29 M allocations: 30.983 GiB, 44.56% gc time)\n",
      "(:epoch, 27, :dloss, 0.24017949204005198, :gloss, 0.1821032965235333)\n",
      " 89.705045 seconds (2.29 M allocations: 30.983 GiB, 44.64% gc time)\n",
      "(:epoch, 28, :dloss, 0.1579801128291539, :gloss, 0.18452007838516968)\n",
      " 86.563740 seconds (2.29 M allocations: 30.983 GiB, 44.64% gc time)\n",
      "(:epoch, 29, :dloss, 0.2662320082911263, :gloss, 0.16454472184578736)\n",
      " 86.842887 seconds (2.29 M allocations: 30.983 GiB, 44.85% gc time)\n",
      "(:epoch, 30, :dloss, 0.22564082273771066, :gloss, 0.16474084821417515)\n",
      " 88.984303 seconds (2.29 M allocations: 30.983 GiB, 44.47% gc time)\n",
      "(:epoch, 31, :dloss, 0.2196178390114158, :gloss, 0.15236410288427937)\n",
      " 84.410961 seconds (2.29 M allocations: 30.983 GiB, 44.93% gc time)\n",
      "(:epoch, 32, :dloss, 0.18644614607017643, :gloss, 0.15462232018756314)\n",
      " 85.442690 seconds (2.29 M allocations: 30.983 GiB, 44.58% gc time)\n",
      "(:epoch, 33, :dloss, 0.20549361977616493, :gloss, 0.14831787458654885)\n",
      " 86.986517 seconds (2.29 M allocations: 30.983 GiB, 44.67% gc time)\n",
      "(:epoch, 34, :dloss, 0.16670691419819963, :gloss, 0.14382837655719513)\n",
      " 84.150833 seconds (2.29 M allocations: 30.983 GiB, 45.16% gc time)\n",
      "(:epoch, 35, :dloss, 0.15828188995662126, :gloss, 0.14605870119561393)\n",
      " 86.003244 seconds (2.29 M allocations: 30.983 GiB, 44.66% gc time)\n",
      "(:epoch, 36, :dloss, 0.10826470516806085, :gloss, 0.1451820818393383)\n",
      " 74.412302 seconds (2.29 M allocations: 30.983 GiB, 44.75% gc time)\n",
      "(:epoch, 37, :dloss, 0.15148355826500257, :gloss, 0.14434950106746186)\n",
      " 69.605961 seconds (2.29 M allocations: 30.983 GiB, 45.39% gc time)\n",
      "(:epoch, 38, :dloss, 0.22028896768203, :gloss, 0.1387929847424351)\n",
      " 71.269713 seconds (2.29 M allocations: 30.983 GiB, 45.41% gc time)\n",
      "(:epoch, 39, :dloss, 0.24538950628582612, :gloss, 0.12669002432849896)\n",
      " 74.031312 seconds (2.29 M allocations: 30.983 GiB, 45.44% gc time)\n",
      "(:epoch, 40, :dloss, 0.17660661618315907, :gloss, 0.13250121016070257)\n",
      "trained\n"
     ]
    }
   ],
   "source": [
    "wd, wg, md, mg = DCGAN.main(\"--epochs 40 --seed 1 --outdir /Users/rishi/Project/GAN/invert2/ --layers 8\");"
   ]
  },
  {
   "cell_type": "code",
   "execution_count": null,
   "metadata": {},
   "outputs": [],
   "source": []
  },
  {
   "cell_type": "code",
   "execution_count": null,
   "metadata": {},
   "outputs": [],
   "source": []
  },
  {
   "cell_type": "code",
   "execution_count": null,
   "metadata": {},
   "outputs": [],
   "source": []
  }
 ],
 "metadata": {
  "kernelspec": {
   "display_name": "Julia 0.6.1",
   "language": "julia",
   "name": "julia-0.6"
  },
  "language_info": {
   "file_extension": ".jl",
   "mimetype": "application/julia",
   "name": "julia",
   "version": "0.6.1"
  }
 },
 "nbformat": 4,
 "nbformat_minor": 2
}
