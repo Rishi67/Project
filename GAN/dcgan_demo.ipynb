{
 "cells": [
  {
   "cell_type": "code",
   "execution_count": 1,
   "metadata": {
    "scrolled": false
   },
   "outputs": [
    {
     "data": {
      "text/plain": [
       "MLP"
      ]
     },
     "execution_count": 1,
     "metadata": {},
     "output_type": "execute_result"
    }
   ],
   "source": [
    "include(\"./../adversarial/dcgan.jl\")\n",
    "include(\"classifier.jl\")"
   ]
  },
  {
   "cell_type": "code",
   "execution_count": 2,
   "metadata": {
    "scrolled": false
   },
   "outputs": [
    {
     "name": "stdout",
     "output_type": "stream",
     "text": [
      "mlp.jl (c) Deniz Yuret, 2016. Multi-layer perceptron model on the MNIST handwritten digit recognition problem from http://yann.lecun.com/exdb/mnist.\n",
      "opts=(:batchsize, 100)(:fast, false)(:atype, \"Array{Float32}\")(:epochs, 10)(:gcheck, 0)(:winit, 0.1)(:lr, 0.5)(:hidden, [256, 128, 64, 32])(:seed, -1)\n"
     ]
    },
    {
     "name": "stderr",
     "output_type": "stream",
     "text": [
      "\u001b[1m\u001b[36mINFO: \u001b[39m\u001b[22m\u001b[36mLoading MNIST...\n",
      "\u001b[39m"
     ]
    },
    {
     "name": "stdout",
     "output_type": "stream",
     "text": [
      "(60000,)\n",
      "Array{UInt8,1}\n",
      "(:epoch, 0, :trn, 0.10041666666666667, :tst, 0.0974)\n",
      "(:epoch, 1, :trn, 0.9448333333333333, :tst, 0.9392)\n",
      "(:epoch, 2, :trn, 0.9674333333333334, :tst, 0.9604)\n",
      "(:epoch, 3, :trn, 0.9762, :tst, 0.964)\n",
      "(:epoch, 4, :trn, 0.97945, :tst, 0.9665)\n",
      "(:epoch, 5, :trn, 0.9877833333333333, :tst, 0.972)\n",
      "(:epoch, 6, :trn, 0.98605, :tst, 0.9713)\n",
      "(:epoch, 7, :trn, 0.9889666666666667, :tst, 0.9709)\n",
      "(:epoch, 8, :trn, 0.9892333333333333, :tst, 0.9735)\n",
      "(:epoch, 9, :trn, 0.99075, :tst, 0.9739)\n",
      "(:epoch, 10, :trn, 0.98765, :tst, 0.9703)\n",
      " 21.673086 seconds (9.61 M allocations: 19.111 GiB, 8.35% gc time)\n",
      "mlp.jl (c) Deniz Yuret, 2016. Multi-layer perceptron model on the MNIST handwritten digit recognition problem from http://yann.lecun.com/exdb/mnist.\n",
      "opts=(:batchsize, 100)(:fast, false)(:atype, \"Array{Float32}\")(:epochs, 10)(:gcheck, 0)(:winit, 0.1)(:lr, 0.5)(:hidden, [128, 64, 32])(:seed, -1)\n",
      "(60000,)\n",
      "Array{UInt8,1}\n",
      "(:epoch, 0, :trn, 0.1041, :tst, 0.1081)\n",
      "(:epoch, 1, :trn, 0.9263833333333333, :tst, 0.9253)\n",
      "(:epoch, 2, :trn, 0.9672333333333333, :tst, 0.9611)\n",
      "(:epoch, 3, :trn, 0.976, :tst, 0.9667)\n",
      "(:epoch, 4, :trn, 0.9792833333333333, :tst, 0.9695)\n",
      "(:epoch, 5, :trn, 0.9861, :tst, 0.9729)\n",
      "(:epoch, 6, :trn, 0.9846666666666667, :tst, 0.9723)\n",
      "(:epoch, 7, :trn, 0.98515, :tst, 0.9716)\n",
      "(:epoch, 8, :trn, 0.9792166666666666, :tst, 0.9645)\n",
      "(:epoch, 9, :trn, 0.9837, :tst, 0.9689)\n",
      "(:epoch, 10, :trn, 0.9894833333333334, :tst, 0.9739)\n",
      " 12.340378 seconds (6.91 M allocations: 11.138 GiB, 8.90% gc time)\n"
     ]
    },
    {
     "data": {
      "text/plain": [
       "8-element Array{Any,1}:\n",
       " Float32[0.118755 -0.211762 … -0.0163261 0.0206702; -0.059665 -0.143577 … -0.102278 -0.0260817; … ; 0.0745909 -0.00738687 … 0.233697 -0.0691139; -0.028204 -0.22724 … 0.0917755 0.0237572]\n",
       " Float32[-0.224752; -0.0129229; … ; 0.200157; -0.138553]                                                                                                                                  \n",
       " Float32[-0.0278996 0.150484 … -0.199833 0.0113826; -0.225202 -0.277862 … 0.0191612 0.117627; … ; 0.40766 0.154982 … -0.339512 -0.0504742; 0.00138963 -0.0431729 … -0.137369 0.0547977]   \n",
       " Float32[0.382446; 0.142229; … ; 0.476624; 0.111373]                                                                                                                                      \n",
       " Float32[0.340454 0.160612 … -0.043889 -0.0629421; -0.139293 -0.0423721 … 0.0261355 0.449342; … ; 0.350034 -0.19638 … -0.500578 -0.466004; 0.229022 -0.0171794 … -0.44902 -0.105917]      \n",
       " Float32[0.857539; 0.178802; … ; -0.0893607; 0.025383]                                                                                                                                    \n",
       " Float32[-0.0381971 0.0583299 … -0.10164 -0.349216; -0.376299 0.854098 … 0.0889139 0.601322; … ; -0.0144942 -0.415689 … -0.230423 -0.565242; -0.0368327 -0.442107 … -0.123849 -0.136891]  \n",
       " Float32[-0.508628; -0.16145; … ; 0.426791; 0.174954]                                                                                                                                     "
      ]
     },
     "execution_count": 2,
     "metadata": {},
     "output_type": "execute_result"
    }
   ],
   "source": [
    "w = MLP.main(\"--hidden 256 128 64 32\")\n",
    "w2 = MLP.main(\"--hidden 128 64 32\")"
   ]
  },
  {
   "cell_type": "code",
   "execution_count": 7,
   "metadata": {},
   "outputs": [
    {
     "name": "stdout",
     "output_type": "stream",
     "text": [
      "trying to load\n",
      "Weights initialized\n",
      "Array{UInt8,4}\n",
      "(28, 28, 1, 10000)\n",
      "Array{UInt8,1}\n",
      "(10000,)\n",
      "Array{UInt8,4}\n",
      "(28, 28, 1, 1000)\n",
      "Array{UInt8,1}\n",
      "(1000,)\n",
      "training started...\n",
      "trained\n"
     ]
    }
   ],
   "source": [
    "wd, wg, md, mg = DCGAN.main(\"--epochs 0 --seed 1 --loadfile /Users/rishi/Project/GAN/MNIST/models/0020.jld2\");"
   ]
  },
  {
   "cell_type": "code",
   "execution_count": null,
   "metadata": {
    "scrolled": true
   },
   "outputs": [],
   "source": [
    "DCGAN.main(\"--epochs 20 --seed 1 --outdir /Users/rishi/Project/GAN/MNIST --data MNIST\");"
   ]
  },
  {
   "cell_type": "code",
   "execution_count": 4,
   "metadata": {},
   "outputs": [
    {
     "data": {
      "text/html": [
       "<div id=\"interact-js-shim\">\n",
       "    <script charset=\"utf-8\">\n",
       "(function (IPython, $, _, MathJax) {\n",
       "    $.event.special.destroyed = {\n",
       "\tremove: function(o) {\n",
       "\t    if (o.handler) {\n",
       "\t\to.handler.apply(this, arguments)\n",
       "\t    }\n",
       "\t}\n",
       "    }\n",
       "\n",
       "    var OutputArea = IPython.version >= \"4.0.0\" ? require(\"notebook/js/outputarea\").OutputArea : IPython.OutputArea;\n",
       "\n",
       "    var redrawValue = function (container, type, val) {\n",
       "\tvar selector = $(\"<div/>\");\n",
       "\tvar oa = new OutputArea(_.extend(selector, {\n",
       "\t    selector: selector,\n",
       "\t    prompt_area: true,\n",
       "\t    events: IPython.events,\n",
       "\t    keyboard_manager: IPython.keyboard_manager\n",
       "\t})); // Hack to work with IPython 2.1.0\n",
       "\n",
       "\tswitch (type) {\n",
       "\tcase \"image/png\":\n",
       "            var _src = 'data:' + type + ';base64,' + val;\n",
       "\t    $(container).find(\"img\").attr('src', _src);\n",
       "\t    break;\n",
       "\tcase \"text/latex\":\n",
       "\t\tif (MathJax){\n",
       "\t\t\tvar math = MathJax.Hub.getAllJax(container)[0];\n",
       "\t\t\tMathJax.Hub.Queue([\"Text\", math, val.replace(/^\\${1,2}|\\${1,2}$/g, '')]);\n",
       "\t\t\tbreak;\n",
       "\t\t}\n",
       "\tdefault:\n",
       "\t    var toinsert = OutputArea.append_map[type].apply(\n",
       "\t\toa, [val, {}, selector]\n",
       "\t    );\n",
       "\t    $(container).empty().append(toinsert.contents());\n",
       "\t    selector.remove();\n",
       "\t}\n",
       "    }\n",
       "\n",
       "\n",
       "    $(document).ready(function() {\n",
       "\tfunction initComm(evt, data) {\n",
       "\t    var comm_manager = data.kernel.comm_manager;\n",
       "        //_.extend(comm_manager.targets, require(\"widgets/js/widget\"))\n",
       "\t    comm_manager.register_target(\"Signal\", function (comm) {\n",
       "            comm.on_msg(function (msg) {\n",
       "                var val = msg.content.data.value;\n",
       "                $(\".signal-\" + comm.comm_id).each(function() {\n",
       "                var type = $(this).data(\"type\");\n",
       "                if (typeof(val[type]) !== \"undefined\" && val[type] !== null) {\n",
       "                    redrawValue(this, type, val[type], type);\n",
       "                }\n",
       "                });\n",
       "                delete val;\n",
       "                delete msg.content.data.value;\n",
       "            });\n",
       "\t    });\n",
       "\n",
       "\t    // coordingate with Comm and redraw Signals\n",
       "\t    // XXX: Test using Reactive here to improve performance\n",
       "\t    $([IPython.events]).on(\n",
       "\t\t'output_appended.OutputArea', function (event, type, value, md, toinsert) {\n",
       "\t\t    if (md && md.reactive) {\n",
       "                // console.log(md.comm_id);\n",
       "                toinsert.addClass(\"signal-\" + md.comm_id);\n",
       "                toinsert.data(\"type\", type);\n",
       "                // Signal back indicating the mimetype required\n",
       "                var comm_manager = IPython.notebook.kernel.comm_manager;\n",
       "                var comm = comm_manager.comms[md.comm_id];\n",
       "                comm.then(function (c) {\n",
       "                    c.send({action: \"subscribe_mime\",\n",
       "                       mime: type});\n",
       "                    toinsert.bind(\"destroyed\", function() {\n",
       "                        c.send({action: \"unsubscribe_mime\",\n",
       "                               mime: type});\n",
       "                    });\n",
       "                })\n",
       "\t\t    }\n",
       "\t    });\n",
       "\t}\n",
       "\n",
       "\ttry {\n",
       "\t    // try to initialize right away. otherwise, wait on the status_started event.\n",
       "\t    initComm(undefined, IPython.notebook);\n",
       "\t} catch (e) {\n",
       "\t    $([IPython.events]).on('kernel_created.Kernel kernel_created.Session', initComm);\n",
       "\t}\n",
       "    });\n",
       "})(IPython, jQuery, _, MathJax);\n",
       "</script>\n",
       "    <script>\n",
       "        window.interactLoadedFlag = true\n",
       "       $(\"#interact-js-shim\").bind(\"destroyed\", function () {\n",
       "           if (window.interactLoadedFlag) {\n",
       "               console.warn(\"JavaScript required by Interact will be removed if you remove this cell or run using Interact more than once.\")\n",
       "           }\n",
       "       })\n",
       "       $([IPython.events]).on(\"kernel_starting.Kernel kernel_restarting.Kernel\", function () { window.interactLoadedFlag = false })\n",
       "   </script>\n",
       "</div>"
      ]
     },
     "metadata": {},
     "output_type": "display_data"
    },
    {
     "data": {
      "text/plain": [
       "\"/Users/rishi/Project/Gan/ReverseGan/zero.txt\""
      ]
     },
     "execution_count": 4,
     "metadata": {},
     "output_type": "execute_result"
    }
   ],
   "source": [
    "using Interact, Plots\n",
    "\n",
    "file = [\"\",\"\",\"\",\"\",\"\",\"\",\"\",\"\",\"\",\"\"]\n",
    "file[1] = \"/Users/rishi/Project/GAN/ReverseGan/one.txt\"\n",
    "file[2] = \"/Users/rishi/Project/GAN/ReverseGan/two.txt\"\n",
    "file[3] = \"/Users/rishi/Project/GAN/ReverseGan/three.txt\"\n",
    "file[4] = \"/Users/rishi/Project/GAN/ReverseGan/four.txt\"\n",
    "file[5] = \"/Users/rishi/Project/GAN/ReverseGan/five.txt\"\n",
    "file[6] = \"/Users/rishi/Project/GAN/ReverseGan/six.txt\"\n",
    "file[7] = \"/Users/rishi/Project/GAN/ReverseGan/seven.txt\"\n",
    "file[8] = \"/Users/rishi/Project/GAN/ReverseGan/eight.txt\"\n",
    "file[9] = \"/Users/rishi/Project/GAN/ReverseGan/nine.txt\"\n",
    "file[10] = \"/Users/rishi/Project/Gan/ReverseGan/zero.txt\""
   ]
  },
  {
   "cell_type": "code",
   "execution_count": 8,
   "metadata": {},
   "outputs": [
    {
     "name": "stdout",
     "output_type": "stream",
     "text": [
      "(100, 5000)\n",
      "(100, 543)\n",
      "(100, 210)\n",
      "(100, 253)\n",
      "(100, 426)\n",
      "(100, 1327)\n",
      "(100, 170)\n",
      "(100, 1251)\n",
      "(100, 11)\n",
      "(100, 677)\n",
      "(100, 132)\n"
     ]
    }
   ],
   "source": [
    "f = open.(file, \"w\")\n",
    "\n",
    "z = DCGAN.sample_noise(Array{Float64},100,5000)\n",
    "println(size(z))\n",
    "x = DCGAN.gnet(wg,z,mg; training = false)\n",
    "y = reshape(x,784,:)\n",
    "label1 = mapslices(indmax,MLP.predict(w,y),1)\n",
    "label2 = mapslices(indmax,MLP.predict(w2,y),1)\n",
    "#println(label)\n",
    "\n",
    "for i=1:10\n",
    "    idx = Array{Int64,1}()\n",
    "    for j = 1:5000\n",
    "        if label1[j] == i \n",
    "            push!(idx,j)\n",
    "        end\n",
    "    end\n",
    "    #println(idx)\n",
    "    println(size(z[:,idx]))\n",
    "    writedlm(f[i], z[:,idx]', \"\\t\")\n",
    "end\n",
    "\n",
    "for i=1:10\n",
    "    close(f[i])\n",
    "end"
   ]
  },
  {
   "cell_type": "code",
   "execution_count": 9,
   "metadata": {
    "scrolled": false
   },
   "outputs": [
    {
     "name": "stdout",
     "output_type": "stream",
     "text": [
      "STDIN> 1\n"
     ]
    },
    {
     "data": {
      "application/vnd.jupyter.widget-view+json": {
       "model_id": "5320eedb-c9e9-4da3-8894-a6f2ab191e8e",
       "version_major": 2,
       "version_minor": 0
      }
     },
     "metadata": {},
     "output_type": "display_data"
    },
    {
     "data": {
      "text/html": [],
      "text/plain": [
       "Interact.Options{:ToggleButtons,Any}(7: \"input-3\" = 1 Any , \"digit\", 1, \"1\", 0, Interact.OptionDict(DataStructures.OrderedDict{Any,Any}(\"1\"=>1,\"2\"=>2,\"3\"=>3,\"4\"=>4,\"5\"=>5,\"6\"=>6,\"7\"=>7,\"8\"=>8,\"9\"=>9,\"10\"=>10…), Dict{Any,Any}(Pair{Any,Any}(7, \"7\"),Pair{Any,Any}(4, \"4\"),Pair{Any,Any}(9, \"9\"),Pair{Any,Any}(10, \"10\"),Pair{Any,Any}(2, \"2\"),Pair{Any,Any}(3, \"3\"),Pair{Any,Any}(5, \"5\"),Pair{Any,Any}(8, \"8\"),Pair{Any,Any}(6, \"6\"),Pair{Any,Any}(1, \"1\")…)), Any[], Any[], true, \"horizontal\")"
      ]
     },
     "metadata": {},
     "output_type": "display_data"
    },
    {
     "data": {
      "application/vnd.jupyter.widget-view+json": {
       "model_id": "656734af-4c5a-42e9-8b78-80d3b46009e0",
       "version_major": 2,
       "version_minor": 0
      }
     },
     "metadata": {},
     "output_type": "display_data"
    },
    {
     "data": {
      "text/html": [],
      "text/plain": [
       "Interact.Textbox{Int64}(9: \"input-4\" = 1 Int64 , \"n\", nothing, 1)"
      ]
     },
     "metadata": {},
     "output_type": "display_data"
    },
    {
     "name": "stdout",
     "output_type": "stream",
     "text": [
      "size(z) = (100, 543)\n"
     ]
    },
    {
     "name": "stderr",
     "output_type": "stream",
     "text": [
      "\u001b[1m\u001b[33mWARNING: \u001b[39m\u001b[22m\u001b[33mgray is found in more than one library: cmocean, colorcet. Choosing cmocean\u001b[39m\n"
     ]
    },
    {
     "data": {
      "text/html": [
       "<img src=\"data:image/png;base64,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\" />"
      ]
     },
     "execution_count": 9,
     "metadata": {
      "comm_id": "c2473828-0254-4043-9f0f-d024392e2afe",
      "reactive": true
     },
     "output_type": "execute_result"
    },
    {
     "name": "stdout",
     "output_type": "stream",
     "text": [
      "size(z) = (100, 210)\n"
     ]
    },
    {
     "name": "stderr",
     "output_type": "stream",
     "text": [
      "\u001b[1m\u001b[33mWARNING: \u001b[39m\u001b[22m\u001b[33mgray is found in more than one library: cmocean, colorcet. Choosing cmocean\u001b[39m\n"
     ]
    },
    {
     "name": "stdout",
     "output_type": "stream",
     "text": [
      "size(z) = (100, 1327)\n"
     ]
    },
    {
     "name": "stderr",
     "output_type": "stream",
     "text": [
      "\u001b[1m\u001b[33mWARNING: \u001b[39m\u001b[22m\u001b[33mgray is found in more than one library: cmocean, colorcet. Choosing cmocean\u001b[39m\n"
     ]
    },
    {
     "name": "stdout",
     "output_type": "stream",
     "text": [
      "size(z) = (100, 1327)\n"
     ]
    },
    {
     "name": "stderr",
     "output_type": "stream",
     "text": [
      "\u001b[1m\u001b[33mWARNING: \u001b[39m\u001b[22m\u001b[33mgray is found in more than one library: cmocean, colorcet. Choosing cmocean\u001b[39m\n"
     ]
    },
    {
     "name": "stdout",
     "output_type": "stream",
     "text": [
      "size(z) = (100, 1327)\n"
     ]
    },
    {
     "name": "stderr",
     "output_type": "stream",
     "text": [
      "\u001b[1m\u001b[33mWARNING: \u001b[39m\u001b[22m\u001b[33mgray is found in more than one library: cmocean, colorcet. Choosing cmocean\u001b[39m\n"
     ]
    },
    {
     "name": "stdout",
     "output_type": "stream",
     "text": [
      "size(z) = (100, 1327)\n"
     ]
    },
    {
     "name": "stderr",
     "output_type": "stream",
     "text": [
      "\u001b[1m\u001b[33mWARNING: \u001b[39m\u001b[22m\u001b[33mgray is found in more than one library: cmocean, colorcet. Choosing cmocean\u001b[39m\n"
     ]
    },
    {
     "name": "stdout",
     "output_type": "stream",
     "text": [
      "size(z) = (100, 1327)\n"
     ]
    },
    {
     "name": "stderr",
     "output_type": "stream",
     "text": [
      "\u001b[1m\u001b[33mWARNING: \u001b[39m\u001b[22m\u001b[33mgray is found in more than one library: cmocean, colorcet. Choosing cmocean\u001b[39m\n"
     ]
    },
    {
     "name": "stdout",
     "output_type": "stream",
     "text": [
      "size(z) = (100, 1327)\n"
     ]
    },
    {
     "name": "stderr",
     "output_type": "stream",
     "text": [
      "\u001b[1m\u001b[33mWARNING: \u001b[39m\u001b[22m\u001b[33mgray is found in more than one library: cmocean, colorcet. Choosing cmocean\u001b[39m\n"
     ]
    },
    {
     "name": "stdout",
     "output_type": "stream",
     "text": [
      "size(z) = (100, 1327)\n"
     ]
    },
    {
     "name": "stderr",
     "output_type": "stream",
     "text": [
      "\u001b[1m\u001b[33mWARNING: \u001b[39m\u001b[22m\u001b[33mgray is found in more than one library: cmocean, colorcet. Choosing cmocean\u001b[39m\n"
     ]
    },
    {
     "name": "stdout",
     "output_type": "stream",
     "text": [
      "size(z) = (100, 1327)\n"
     ]
    },
    {
     "name": "stderr",
     "output_type": "stream",
     "text": [
      "\u001b[1m\u001b[33mWARNING: \u001b[39m\u001b[22m\u001b[33mgray is found in more than one library: cmocean, colorcet. Choosing cmocean\u001b[39m\n"
     ]
    },
    {
     "name": "stdout",
     "output_type": "stream",
     "text": [
      "size(z) = (100, 1327)\n"
     ]
    },
    {
     "name": "stderr",
     "output_type": "stream",
     "text": [
      "\u001b[1m\u001b[33mWARNING: \u001b[39m\u001b[22m\u001b[33mgray is found in more than one library: cmocean, colorcet. Choosing cmocean\u001b[39m\n"
     ]
    },
    {
     "name": "stdout",
     "output_type": "stream",
     "text": [
      "size(z) = (100, 1327)\n"
     ]
    },
    {
     "name": "stderr",
     "output_type": "stream",
     "text": [
      "\u001b[1m\u001b[33mWARNING: \u001b[39m\u001b[22m\u001b[33mgray is found in more than one library: cmocean, colorcet. Choosing cmocean\u001b[39m\n"
     ]
    },
    {
     "name": "stdout",
     "output_type": "stream",
     "text": [
      "size(z) = (100, 1327)\n"
     ]
    },
    {
     "name": "stderr",
     "output_type": "stream",
     "text": [
      "\u001b[1m\u001b[33mWARNING: \u001b[39m\u001b[22m\u001b[33mgray is found in more than one library: cmocean, colorcet. Choosing cmocean\u001b[39m\n"
     ]
    },
    {
     "name": "stdout",
     "output_type": "stream",
     "text": [
      "size(z) = (100, 1327)\n"
     ]
    },
    {
     "name": "stderr",
     "output_type": "stream",
     "text": [
      "\u001b[1m\u001b[33mWARNING: \u001b[39m\u001b[22m\u001b[33mgray is found in more than one library: cmocean, colorcet. Choosing cmocean\u001b[39m\n"
     ]
    },
    {
     "name": "stdout",
     "output_type": "stream",
     "text": [
      "size(z) = (100, 1327)\n"
     ]
    },
    {
     "name": "stderr",
     "output_type": "stream",
     "text": [
      "\u001b[1m\u001b[33mWARNING: \u001b[39m\u001b[22m\u001b[33mgray is found in more than one library: cmocean, colorcet. Choosing cmocean\u001b[39m\n"
     ]
    },
    {
     "name": "stdout",
     "output_type": "stream",
     "text": [
      "size(z) = (100, 1327)\n"
     ]
    },
    {
     "name": "stderr",
     "output_type": "stream",
     "text": [
      "\u001b[1m\u001b[33mWARNING: \u001b[39m\u001b[22m\u001b[33mgray is found in more than one library: cmocean, colorcet. Choosing cmocean\u001b[39m\n"
     ]
    },
    {
     "name": "stdout",
     "output_type": "stream",
     "text": [
      "size(z) = (100, 1327)\n"
     ]
    },
    {
     "name": "stderr",
     "output_type": "stream",
     "text": [
      "\u001b[1m\u001b[33mWARNING: \u001b[39m\u001b[22m\u001b[33mgray is found in more than one library: cmocean, colorcet. Choosing cmocean\u001b[39m\n"
     ]
    },
    {
     "name": "stdout",
     "output_type": "stream",
     "text": [
      "size(z) = (100, 1327)\n"
     ]
    },
    {
     "name": "stderr",
     "output_type": "stream",
     "text": [
      "\u001b[1m\u001b[33mWARNING: \u001b[39m\u001b[22m\u001b[33mgray is found in more than one library: cmocean, colorcet. Choosing cmocean\u001b[39m\n"
     ]
    },
    {
     "name": "stdout",
     "output_type": "stream",
     "text": [
      "size(z) = (100, 1327)\n"
     ]
    },
    {
     "name": "stderr",
     "output_type": "stream",
     "text": [
      "\u001b[1m\u001b[33mWARNING: \u001b[39m\u001b[22m\u001b[33mgray is found in more than one library: cmocean, colorcet. Choosing cmocean\u001b[39m\n"
     ]
    },
    {
     "name": "stdout",
     "output_type": "stream",
     "text": [
      "size(z) = (100, 1327)\n"
     ]
    },
    {
     "name": "stderr",
     "output_type": "stream",
     "text": [
      "\u001b[1m\u001b[33mWARNING: \u001b[39m\u001b[22m\u001b[33mgray is found in more than one library: cmocean, colorcet. Choosing cmocean\u001b[39m\n"
     ]
    },
    {
     "name": "stdout",
     "output_type": "stream",
     "text": [
      "size(z) = (100, 1327)\n"
     ]
    },
    {
     "name": "stderr",
     "output_type": "stream",
     "text": [
      "\u001b[1m\u001b[33mWARNING: \u001b[39m\u001b[22m\u001b[33mgray is found in more than one library: cmocean, colorcet. Choosing cmocean\u001b[39m\n"
     ]
    },
    {
     "name": "stdout",
     "output_type": "stream",
     "text": [
      "size(z) = (100, 1327)\n"
     ]
    },
    {
     "name": "stderr",
     "output_type": "stream",
     "text": [
      "\u001b[1m\u001b[33mWARNING: \u001b[39m\u001b[22m\u001b[33mgray is found in more than one library: cmocean, colorcet. Choosing cmocean\u001b[39m\n"
     ]
    },
    {
     "name": "stdout",
     "output_type": "stream",
     "text": [
      "size(z) = (100, 11)\n"
     ]
    },
    {
     "name": "stderr",
     "output_type": "stream",
     "text": [
      "Failed to push!\n",
      "    8\n",
      "to node\n",
      "    7: \"input-3\" = 8 Any (active)\n",
      "\n",
      "error at node: 11: \"map(input-3, input-4)\" = Plot{Plots.PyPlotBackend() n=1} Any (active)\n",
      "\u001b[91mBoundsError: attempt to access 100×11 Array{Float64,2} at index [Base.Slice(Base.OneTo(100)), [20]]\u001b[39m\n",
      "throw_boundserror(::Array{Float64,2}, ::Tuple{Base.Slice{Base.OneTo{Int64}},Array{Int64,1}}) at ./abstractarray.jl:434\n",
      "checkbounds at ./abstractarray.jl:362 [inlined]\n",
      "macro expansion at ./multidimensional.jl:494 [inlined]\n",
      "_getindex at ./multidimensional.jl:491 [inlined]\n",
      "getindex(::Array{Float64,2}, ::Colon, ::Array{Int64,1}) at ./abstractarray.jl:883\n",
      "(::##24#25)(::Int64, ::Int64) at ./In[9]:12\n",
      "(::Reactive.##33#34{##24#25,Reactive.Signal{Any},Tuple{Reactive.Signal{Any},Reactive.Signal{Int64}}})() at /Users/rishi/.julia/v0.6/Reactive/src/operators.jl:39\n",
      "foreach(::Reactive.#runaction, ::Array{Function,1}) at ./abstractarray.jl:1733\n",
      "run_node(::Reactive.Signal{Any}) at /Users/rishi/.julia/v0.6/Reactive/src/core.jl:312\n",
      "run_push(::Reactive.Signal{Any}, ::Int64, ::Reactive.#print_error, ::Bool) at /Users/rishi/.julia/v0.6/Reactive/src/core.jl:330\n",
      "run_push(::Reactive.Signal{Any}, ::Int64, ::Function) at /Users/rishi/.julia/v0.6/Reactive/src/core.jl:317\n",
      "run(::Int64) at /Users/rishi/.julia/v0.6/Reactive/src/core.jl:277\n",
      "(::Reactive.##27#29)() at ./task.jl:335\n"
     ]
    },
    {
     "name": "stdout",
     "output_type": "stream",
     "text": [
      "size(z) = (100, 11)\n"
     ]
    },
    {
     "name": "stderr",
     "output_type": "stream",
     "text": [
      "\u001b[1m\u001b[33mWARNING: \u001b[39m\u001b[22m\u001b[33mgray is found in more than one library: cmocean, colorcet. Choosing cmocean\u001b[39m\n"
     ]
    },
    {
     "name": "stdout",
     "output_type": "stream",
     "text": [
      "size(z) = (100, 1251)\n"
     ]
    },
    {
     "name": "stderr",
     "output_type": "stream",
     "text": [
      "\u001b[1m\u001b[33mWARNING: \u001b[39m\u001b[22m\u001b[33mgray is found in more than one library: cmocean, colorcet. Choosing cmocean\u001b[39m\n"
     ]
    },
    {
     "name": "stdout",
     "output_type": "stream",
     "text": [
      "size(z) = (100, 1251)\n"
     ]
    },
    {
     "name": "stderr",
     "output_type": "stream",
     "text": [
      "\u001b[1m\u001b[33mWARNING: \u001b[39m\u001b[22m\u001b[33mgray is found in more than one library: cmocean, colorcet. Choosing cmocean\u001b[39m\n"
     ]
    },
    {
     "name": "stdout",
     "output_type": "stream",
     "text": [
      "size(z) = (100, 1251)\n"
     ]
    },
    {
     "name": "stderr",
     "output_type": "stream",
     "text": [
      "\u001b[1m\u001b[33mWARNING: \u001b[39m\u001b[22m\u001b[33mgray is found in more than one library: cmocean, colorcet. Choosing cmocean\u001b[39m\n"
     ]
    },
    {
     "name": "stdout",
     "output_type": "stream",
     "text": [
      "size(z) = (100, 1251)\n"
     ]
    },
    {
     "name": "stderr",
     "output_type": "stream",
     "text": [
      "\u001b[1m\u001b[33mWARNING: \u001b[39m\u001b[22m\u001b[33mgray is found in more than one library: cmocean, colorcet. Choosing cmocean\u001b[39m\n"
     ]
    },
    {
     "name": "stdout",
     "output_type": "stream",
     "text": [
      "size(z) = (100, 1251)\n"
     ]
    },
    {
     "name": "stderr",
     "output_type": "stream",
     "text": [
      "\u001b[1m\u001b[33mWARNING: \u001b[39m\u001b[22m\u001b[33mgray is found in more than one library: cmocean, colorcet. Choosing cmocean\u001b[39m\n"
     ]
    },
    {
     "name": "stdout",
     "output_type": "stream",
     "text": [
      "size(z) = (100, 1251)\n"
     ]
    },
    {
     "name": "stderr",
     "output_type": "stream",
     "text": [
      "\u001b[1m\u001b[33mWARNING: \u001b[39m\u001b[22m\u001b[33mgray is found in more than one library: cmocean, colorcet. Choosing cmocean\u001b[39m\n"
     ]
    },
    {
     "name": "stdout",
     "output_type": "stream",
     "text": [
      "size(z) = (100, 1251)\n"
     ]
    },
    {
     "name": "stderr",
     "output_type": "stream",
     "text": [
      "\u001b[1m\u001b[33mWARNING: \u001b[39m\u001b[22m\u001b[33mgray is found in more than one library: cmocean, colorcet. Choosing cmocean\u001b[39m\n"
     ]
    },
    {
     "name": "stdout",
     "output_type": "stream",
     "text": [
      "size(z) = (100, 1251)\n"
     ]
    },
    {
     "name": "stderr",
     "output_type": "stream",
     "text": [
      "\u001b[1m\u001b[33mWARNING: \u001b[39m\u001b[22m\u001b[33mgray is found in more than one library: cmocean, colorcet. Choosing cmocean\u001b[39m\n"
     ]
    },
    {
     "name": "stdout",
     "output_type": "stream",
     "text": [
      "size(z) = (100, 1251)\n"
     ]
    },
    {
     "name": "stderr",
     "output_type": "stream",
     "text": [
      "\u001b[1m\u001b[33mWARNING: \u001b[39m\u001b[22m\u001b[33mgray is found in more than one library: cmocean, colorcet. Choosing cmocean\u001b[39m\n"
     ]
    },
    {
     "name": "stdout",
     "output_type": "stream",
     "text": [
      "size(z) = (100, 1251)\n"
     ]
    },
    {
     "name": "stderr",
     "output_type": "stream",
     "text": [
      "\u001b[1m\u001b[33mWARNING: \u001b[39m\u001b[22m\u001b[33mgray is found in more than one library: cmocean, colorcet. Choosing cmocean\u001b[39m\n"
     ]
    },
    {
     "name": "stdout",
     "output_type": "stream",
     "text": [
      "size(z) = (100, 1251)\n"
     ]
    },
    {
     "name": "stderr",
     "output_type": "stream",
     "text": [
      "\u001b[1m\u001b[33mWARNING: \u001b[39m\u001b[22m\u001b[33mgray is found in more than one library: cmocean, colorcet. Choosing cmocean\u001b[39m\n"
     ]
    },
    {
     "name": "stdout",
     "output_type": "stream",
     "text": [
      "size(z) = (100, 1251)\n"
     ]
    },
    {
     "name": "stderr",
     "output_type": "stream",
     "text": [
      "\u001b[1m\u001b[33mWARNING: \u001b[39m\u001b[22m\u001b[33mgray is found in more than one library: cmocean, colorcet. Choosing cmocean\u001b[39m\n"
     ]
    },
    {
     "name": "stdout",
     "output_type": "stream",
     "text": [
      "size(z) = (100, 1251)\n"
     ]
    },
    {
     "name": "stderr",
     "output_type": "stream",
     "text": [
      "\u001b[1m\u001b[33mWARNING: \u001b[39m\u001b[22m\u001b[33mgray is found in more than one library: cmocean, colorcet. Choosing cmocean\u001b[39m\n"
     ]
    },
    {
     "name": "stdout",
     "output_type": "stream",
     "text": [
      "size(z) = (100, 1251)\n"
     ]
    },
    {
     "name": "stderr",
     "output_type": "stream",
     "text": [
      "\u001b[1m\u001b[33mWARNING: \u001b[39m\u001b[22m\u001b[33mgray is found in more than one library: cmocean, colorcet. Choosing cmocean\u001b[39m\n"
     ]
    },
    {
     "name": "stdout",
     "output_type": "stream",
     "text": [
      "size(z) = (100, 1251)\n"
     ]
    },
    {
     "name": "stderr",
     "output_type": "stream",
     "text": [
      "\u001b[1m\u001b[33mWARNING: \u001b[39m\u001b[22m\u001b[33mgray is found in more than one library: cmocean, colorcet. Choosing cmocean\u001b[39m\n"
     ]
    },
    {
     "name": "stdout",
     "output_type": "stream",
     "text": [
      "size(z) = (100, 1251)\n"
     ]
    },
    {
     "name": "stderr",
     "output_type": "stream",
     "text": [
      "\u001b[1m\u001b[33mWARNING: \u001b[39m\u001b[22m\u001b[33mgray is found in more than one library: cmocean, colorcet. Choosing cmocean\u001b[39m\n"
     ]
    },
    {
     "name": "stdout",
     "output_type": "stream",
     "text": [
      "size(z) = (100, 1251)\n"
     ]
    },
    {
     "name": "stderr",
     "output_type": "stream",
     "text": [
      "\u001b[1m\u001b[33mWARNING: \u001b[39m\u001b[22m\u001b[33mgray is found in more than one library: cmocean, colorcet. Choosing cmocean\u001b[39m\n"
     ]
    },
    {
     "name": "stdout",
     "output_type": "stream",
     "text": [
      "size(z) = (100, 1251)\n"
     ]
    },
    {
     "name": "stderr",
     "output_type": "stream",
     "text": [
      "\u001b[1m\u001b[33mWARNING: \u001b[39m\u001b[22m\u001b[33mgray is found in more than one library: cmocean, colorcet. Choosing cmocean\u001b[39m\n"
     ]
    },
    {
     "name": "stdout",
     "output_type": "stream",
     "text": [
      "size(z) = (100, 1251)\n"
     ]
    },
    {
     "name": "stderr",
     "output_type": "stream",
     "text": [
      "\u001b[1m\u001b[33mWARNING: \u001b[39m\u001b[22m\u001b[33mgray is found in more than one library: cmocean, colorcet. Choosing cmocean\u001b[39m\n"
     ]
    },
    {
     "name": "stdout",
     "output_type": "stream",
     "text": [
      "size(z) = (100, 1251)\n"
     ]
    },
    {
     "name": "stderr",
     "output_type": "stream",
     "text": [
      "\u001b[1m\u001b[33mWARNING: \u001b[39m\u001b[22m\u001b[33mgray is found in more than one library: cmocean, colorcet. Choosing cmocean\u001b[39m\n"
     ]
    },
    {
     "name": "stdout",
     "output_type": "stream",
     "text": [
      "size(z) = (100, 1251)\n"
     ]
    },
    {
     "name": "stderr",
     "output_type": "stream",
     "text": [
      "\u001b[1m\u001b[33mWARNING: \u001b[39m\u001b[22m\u001b[33mgray is found in more than one library: cmocean, colorcet. Choosing cmocean\u001b[39m\n"
     ]
    },
    {
     "name": "stdout",
     "output_type": "stream",
     "text": [
      "size(z) = (100, 1251)\n"
     ]
    },
    {
     "name": "stderr",
     "output_type": "stream",
     "text": [
      "\u001b[1m\u001b[33mWARNING: \u001b[39m\u001b[22m\u001b[33mgray is found in more than one library: cmocean, colorcet. Choosing cmocean\u001b[39m\n"
     ]
    },
    {
     "name": "stdout",
     "output_type": "stream",
     "text": [
      "size(z) = (100, 1251)\n"
     ]
    },
    {
     "name": "stderr",
     "output_type": "stream",
     "text": [
      "\u001b[1m\u001b[33mWARNING: \u001b[39m\u001b[22m\u001b[33mgray is found in more than one library: cmocean, colorcet. Choosing cmocean\u001b[39m\n"
     ]
    },
    {
     "name": "stdout",
     "output_type": "stream",
     "text": [
      "size(z) = (100, 1251)\n"
     ]
    },
    {
     "name": "stderr",
     "output_type": "stream",
     "text": [
      "\u001b[1m\u001b[33mWARNING: \u001b[39m\u001b[22m\u001b[33mgray is found in more than one library: cmocean, colorcet. Choosing cmocean\u001b[39m\n"
     ]
    },
    {
     "name": "stdout",
     "output_type": "stream",
     "text": [
      "size(z) = (100, 1251)\n"
     ]
    },
    {
     "name": "stderr",
     "output_type": "stream",
     "text": [
      "\u001b[1m\u001b[33mWARNING: \u001b[39m\u001b[22m\u001b[33mgray is found in more than one library: cmocean, colorcet. Choosing cmocean\u001b[39m\n"
     ]
    },
    {
     "name": "stdout",
     "output_type": "stream",
     "text": [
      "size(z) = (100, 1251)\n"
     ]
    },
    {
     "name": "stderr",
     "output_type": "stream",
     "text": [
      "\u001b[1m\u001b[33mWARNING: \u001b[39m\u001b[22m\u001b[33mgray is found in more than one library: cmocean, colorcet. Choosing cmocean\u001b[39m\n"
     ]
    },
    {
     "name": "stdout",
     "output_type": "stream",
     "text": [
      "size(z) = (100, 1251)\n"
     ]
    },
    {
     "name": "stderr",
     "output_type": "stream",
     "text": [
      "\u001b[1m\u001b[33mWARNING: \u001b[39m\u001b[22m\u001b[33mgray is found in more than one library: cmocean, colorcet. Choosing cmocean\u001b[39m\n"
     ]
    },
    {
     "name": "stdout",
     "output_type": "stream",
     "text": [
      "size(z) = (100, 1251)\n"
     ]
    },
    {
     "name": "stderr",
     "output_type": "stream",
     "text": [
      "\u001b[1m\u001b[33mWARNING: \u001b[39m\u001b[22m\u001b[33mgray is found in more than one library: cmocean, colorcet. Choosing cmocean\u001b[39m\n"
     ]
    },
    {
     "name": "stdout",
     "output_type": "stream",
     "text": [
      "size(z) = (100, 1251)\n"
     ]
    },
    {
     "name": "stderr",
     "output_type": "stream",
     "text": [
      "\u001b[1m\u001b[33mWARNING: \u001b[39m\u001b[22m\u001b[33mgray is found in more than one library: cmocean, colorcet. Choosing cmocean\u001b[39m\n"
     ]
    },
    {
     "name": "stdout",
     "output_type": "stream",
     "text": [
      "size(z) = (100, 1251)\n"
     ]
    },
    {
     "name": "stderr",
     "output_type": "stream",
     "text": [
      "\u001b[1m\u001b[33mWARNING: \u001b[39m\u001b[22m\u001b[33mgray is found in more than one library: cmocean, colorcet. Choosing cmocean\u001b[39m\n"
     ]
    },
    {
     "name": "stdout",
     "output_type": "stream",
     "text": [
      "size(z) = (100, 1251)\n"
     ]
    },
    {
     "name": "stderr",
     "output_type": "stream",
     "text": [
      "\u001b[1m\u001b[33mWARNING: \u001b[39m\u001b[22m\u001b[33mgray is found in more than one library: cmocean, colorcet. Choosing cmocean\u001b[39m\n"
     ]
    },
    {
     "name": "stdout",
     "output_type": "stream",
     "text": [
      "size(z) = (100, 1251)\n"
     ]
    },
    {
     "name": "stderr",
     "output_type": "stream",
     "text": [
      "\u001b[1m\u001b[33mWARNING: \u001b[39m\u001b[22m\u001b[33mgray is found in more than one library: cmocean, colorcet. Choosing cmocean\u001b[39m\n"
     ]
    },
    {
     "name": "stdout",
     "output_type": "stream",
     "text": [
      "size(z) = (100, 1251)\n"
     ]
    },
    {
     "name": "stderr",
     "output_type": "stream",
     "text": [
      "\u001b[1m\u001b[33mWARNING: \u001b[39m\u001b[22m\u001b[33mgray is found in more than one library: cmocean, colorcet. Choosing cmocean\u001b[39m\n"
     ]
    },
    {
     "name": "stdout",
     "output_type": "stream",
     "text": [
      "size(z) = (100, 1251)\n"
     ]
    },
    {
     "name": "stderr",
     "output_type": "stream",
     "text": [
      "\u001b[1m\u001b[33mWARNING: \u001b[39m\u001b[22m\u001b[33mgray is found in more than one library: cmocean, colorcet. Choosing cmocean\u001b[39m\n"
     ]
    },
    {
     "name": "stdout",
     "output_type": "stream",
     "text": [
      "size(z) = (100, 210)\n"
     ]
    },
    {
     "name": "stderr",
     "output_type": "stream",
     "text": [
      "\u001b[1m\u001b[33mWARNING: \u001b[39m\u001b[22m\u001b[33mgray is found in more than one library: cmocean, colorcet. Choosing cmocean\u001b[39m\n"
     ]
    },
    {
     "name": "stdout",
     "output_type": "stream",
     "text": [
      "size(z) = (100, 253)\n"
     ]
    },
    {
     "name": "stderr",
     "output_type": "stream",
     "text": [
      "\u001b[1m\u001b[33mWARNING: \u001b[39m\u001b[22m\u001b[33mgray is found in more than one library: cmocean, colorcet. Choosing cmocean\u001b[39m\n"
     ]
    },
    {
     "name": "stdout",
     "output_type": "stream",
     "text": [
      "size(z) = (100, 426)\n"
     ]
    },
    {
     "name": "stderr",
     "output_type": "stream",
     "text": [
      "\u001b[1m\u001b[33mWARNING: \u001b[39m\u001b[22m\u001b[33mgray is found in more than one library: cmocean, colorcet. Choosing cmocean\u001b[39m\n"
     ]
    },
    {
     "name": "stdout",
     "output_type": "stream",
     "text": [
      "size(z) = (100, 1327)\n"
     ]
    },
    {
     "name": "stderr",
     "output_type": "stream",
     "text": [
      "\u001b[1m\u001b[33mWARNING: \u001b[39m\u001b[22m\u001b[33mgray is found in more than one library: cmocean, colorcet. Choosing cmocean\u001b[39m\n"
     ]
    },
    {
     "name": "stdout",
     "output_type": "stream",
     "text": [
      "size(z) = (100, 1327)\n"
     ]
    },
    {
     "name": "stderr",
     "output_type": "stream",
     "text": [
      "\u001b[1m\u001b[33mWARNING: \u001b[39m\u001b[22m\u001b[33mgray is found in more than one library: cmocean, colorcet. Choosing cmocean\u001b[39m\n"
     ]
    },
    {
     "name": "stdout",
     "output_type": "stream",
     "text": [
      "size(z) = (100, 1327)\n",
      "size(z) = (100, 1327)\n",
      "size(z) = (100, 1327)\n"
     ]
    },
    {
     "name": "stderr",
     "output_type": "stream",
     "text": [
      "\u001b[1m\u001b[33mWARNING: \u001b[39m\u001b[22m\u001b[33mgray is found in more than one library: cmocean, colorcet. Choosing cmocean\u001b[39m\n"
     ]
    },
    {
     "name": "stdout",
     "output_type": "stream",
     "text": [
      "size(z) = (100, 1327)\n"
     ]
    },
    {
     "name": "stderr",
     "output_type": "stream",
     "text": [
      "\u001b[1m\u001b[33mWARNING: \u001b[39m\u001b[22m\u001b[33mgray is found in more than one library: cmocean, colorcet. Choosing cmocean\u001b[39m\n"
     ]
    },
    {
     "name": "stdout",
     "output_type": "stream",
     "text": [
      "size(z) = (100, 1327)\n"
     ]
    },
    {
     "name": "stderr",
     "output_type": "stream",
     "text": [
      "\u001b[1m\u001b[33mWARNING: \u001b[39m\u001b[22m\u001b[33mgray is found in more than one library: cmocean, colorcet. Choosing cmocean\u001b[39m\n"
     ]
    },
    {
     "name": "stdout",
     "output_type": "stream",
     "text": [
      "size(z) = (100, 1327)\n"
     ]
    },
    {
     "name": "stderr",
     "output_type": "stream",
     "text": [
      "\u001b[1m\u001b[33mWARNING: \u001b[39m\u001b[22m\u001b[33mgray is found in more than one library: cmocean, colorcet. Choosing cmocean\u001b[39m\n"
     ]
    },
    {
     "name": "stdout",
     "output_type": "stream",
     "text": [
      "size(z) = (100, 1327)\n"
     ]
    },
    {
     "name": "stderr",
     "output_type": "stream",
     "text": [
      "\u001b[1m\u001b[33mWARNING: \u001b[39m\u001b[22m\u001b[33mgray is found in more than one library: cmocean, colorcet. Choosing cmocean\u001b[39m\n"
     ]
    }
   ],
   "source": [
    "using Colors\n",
    "\n",
    "function input(prompt::String=\"\")::String\n",
    "    print(prompt)\n",
    "    return chomp(readline())\n",
    "end\n",
    "\n",
    "@manipulate for digit = [1,2,3,4,5,6,7,8,9,10], n = parse(Int,input())\n",
    "    z = readdlm(file[digit],'\\t')'\n",
    "    @show size(z)\n",
    "    \n",
    "    x = DCGAN.gnet(wg,z[:,[n]],mg; training = false)\n",
    "    heatmap(x[:,:,1,1]',yflip=true, color=:gray)\n",
    "end"
   ]
  },
  {
   "cell_type": "code",
   "execution_count": 16,
   "metadata": {},
   "outputs": [
    {
     "name": "stdout",
     "output_type": "stream",
     "text": [
      "(100, 1)\n"
     ]
    },
    {
     "data": {
      "text/html": [
       "<img src=\"data:image/png;base64,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\" />"
      ]
     },
     "execution_count": 16,
     "metadata": {},
     "output_type": "execute_result"
    }
   ],
   "source": [
    "z = DCGAN.sample_noise(Array{Float64},100,1)\n",
    "println(size(z))\n",
    "x = DCGAN.gnet(wg,z,mg; training = false)\n",
    "heatmap(x[:,:,1,1])"
   ]
  },
  {
   "cell_type": "code",
   "execution_count": 17,
   "metadata": {},
   "outputs": [
    {
     "data": {
      "text/plain": [
       "100×1 Array{Float64,2}:\n",
       "  0.955472\n",
       " -0.140648\n",
       "  0.54544 \n",
       "  0.52151 \n",
       " -2.20006 \n",
       "  0.213184\n",
       " -0.732745\n",
       " -0.167629\n",
       " -1.55561 \n",
       " -2.51481 \n",
       " -1.34561 \n",
       "  1.39167 \n",
       " -2.82186 \n",
       "  ⋮       \n",
       " -3.01892 \n",
       "  1.42471 \n",
       " -1.23974 \n",
       " -2.67818 \n",
       " -1.32129 \n",
       " -1.80191 \n",
       " -2.37284 \n",
       "  0.462698\n",
       "  2.59481 \n",
       " -1.95591 \n",
       " -0.236751\n",
       "  0.745629"
      ]
     },
     "execution_count": 17,
     "metadata": {},
     "output_type": "execute_result"
    }
   ],
   "source": [
    "z"
   ]
  },
  {
   "cell_type": "code",
   "execution_count": null,
   "metadata": {},
   "outputs": [],
   "source": []
  }
 ],
 "metadata": {
  "kernelspec": {
   "display_name": "Julia 0.6.2",
   "language": "julia",
   "name": "julia-0.6"
  },
  "language_info": {
   "file_extension": ".jl",
   "mimetype": "application/julia",
   "name": "julia",
   "version": "0.6.2"
  }
 },
 "nbformat": 4,
 "nbformat_minor": 2
}
